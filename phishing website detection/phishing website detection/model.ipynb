{
  "nbformat": 4,
  "nbformat_minor": 0,
  "metadata": {
    "colab": {
      "provenance": []
    },
    "kernelspec": {
      "name": "python3",
      "display_name": "Python 3"
    },
    "language_info": {
      "name": "python"
    }
  },
  "cells": [
    {
      "cell_type": "code",
      "source": [
        "import numpy as np\n",
        "import matplotlib.pyplot as plt\n",
        "import pandas as pd\n",
        "from sklearn.ensemble import RandomForestClassifier\n",
        "import joblib"
      ],
      "metadata": {
        "id": "ofvEDtsw87jH"
      },
      "execution_count": 13,
      "outputs": []
    },
    {
      "cell_type": "code",
      "source": [
        "#importing the dataset\n",
        "dataset = pd.read_csv(\"phishcoop.csv\")\n",
        "dataset = dataset.drop('id', 1) #removing unwanted column"
      ],
      "metadata": {
        "colab": {
          "base_uri": "https://localhost:8080/"
        },
        "id": "p1CaMIih-WGs",
        "outputId": "bef02e7e-e771-4f04-9bb5-0f21164b3c05"
      },
      "execution_count": 14,
      "outputs": [
        {
          "output_type": "stream",
          "name": "stderr",
          "text": [
            "<ipython-input-14-cfd12b8d8270>:3: FutureWarning: In a future version of pandas all arguments of DataFrame.drop except for the argument 'labels' will be keyword-only\n",
            "  dataset = dataset.drop('id', 1) #removing unwanted column\n"
          ]
        }
      ]
    },
    {
      "cell_type": "code",
      "source": [
        "dataset.info()"
      ],
      "metadata": {
        "colab": {
          "base_uri": "https://localhost:8080/"
        },
        "id": "IYcRHtXR-rm4",
        "outputId": "7be66d4e-2796-465c-f83d-5ad08c388cc7"
      },
      "execution_count": 15,
      "outputs": [
        {
          "output_type": "stream",
          "name": "stdout",
          "text": [
            "<class 'pandas.core.frame.DataFrame'>\n",
            "RangeIndex: 6992 entries, 0 to 6991\n",
            "Data columns (total 31 columns):\n",
            " #   Column                       Non-Null Count  Dtype\n",
            "---  ------                       --------------  -----\n",
            " 0   having_IP_Address            6992 non-null   int64\n",
            " 1   URL_Length                   6992 non-null   int64\n",
            " 2   Shortining_Service           6992 non-null   int64\n",
            " 3   having_At_Symbol             6992 non-null   int64\n",
            " 4   double_slash_redirecting     6992 non-null   int64\n",
            " 5   Prefix_Suffix                6992 non-null   int64\n",
            " 6   having_Sub_Domain            6992 non-null   int64\n",
            " 7   SSLfinal_State               6992 non-null   int64\n",
            " 8   Domain_registeration_length  6992 non-null   int64\n",
            " 9   Favicon                      6992 non-null   int64\n",
            " 10  port                         6992 non-null   int64\n",
            " 11  HTTPS_token                  6992 non-null   int64\n",
            " 12  Request_URL                  6992 non-null   int64\n",
            " 13  URL_of_Anchor                6992 non-null   int64\n",
            " 14  Links_in_tags                6992 non-null   int64\n",
            " 15  SFH                          6992 non-null   int64\n",
            " 16  Submitting_to_email          6992 non-null   int64\n",
            " 17  Abnormal_URL                 6992 non-null   int64\n",
            " 18  Redirect                     6992 non-null   int64\n",
            " 19  on_mouseover                 6992 non-null   int64\n",
            " 20  RightClick                   6992 non-null   int64\n",
            " 21  popUpWidnow                  6992 non-null   int64\n",
            " 22  Iframe                       6992 non-null   int64\n",
            " 23  age_of_domain                6992 non-null   int64\n",
            " 24  DNSRecord                    6992 non-null   int64\n",
            " 25  web_traffic                  6992 non-null   int64\n",
            " 26  Page_Rank                    6992 non-null   int64\n",
            " 27  Google_Index                 6992 non-null   int64\n",
            " 28  Links_pointing_to_page       6992 non-null   int64\n",
            " 29  Statistical_report           6992 non-null   int64\n",
            " 30  Result                       6992 non-null   int64\n",
            "dtypes: int64(31)\n",
            "memory usage: 1.7 MB\n"
          ]
        }
      ]
    },
    {
      "cell_type": "code",
      "source": [
        "x = dataset.iloc[ : , :-1].values\n",
        "y = dataset.iloc[:, -1:].values"
      ],
      "metadata": {
        "id": "Ddw3PEWK-pyV"
      },
      "execution_count": 16,
      "outputs": []
    },
    {
      "cell_type": "code",
      "source": [
        "#spliting the dataset into training set and test set\n",
        "from sklearn.model_selection import train_test_split\n",
        "x_train, x_test, y_train, y_test = train_test_split(x,y,test_size = 0.25, random_state =0 )"
      ],
      "metadata": {
        "id": "DEGqmMiz-WDU"
      },
      "execution_count": 17,
      "outputs": []
    },
    {
      "cell_type": "code",
      "source": [
        "#----------------applying grid search to find best performing parameters \n",
        "from sklearn.model_selection import GridSearchCV\n",
        "parameters = [{'n_estimators': [100, 700],\n",
        "    'max_features': ['sqrt', 'log2'],\n",
        "    'criterion' :['gini', 'entropy']}]"
      ],
      "metadata": {
        "id": "XIntYkQC-V58"
      },
      "execution_count": 18,
      "outputs": []
    },
    {
      "cell_type": "code",
      "source": [
        "grid_search = GridSearchCV(RandomForestClassifier(),  parameters,cv =5, n_jobs= -1)\n",
        "grid_search.fit(x_train, y_train)\n",
        "#printing best parameters \n",
        "print(\"Best Accurancy =\" +str( grid_search.best_score_))\n",
        "print(\"best parameters =\" + str(grid_search.best_params_))"
      ],
      "metadata": {
        "colab": {
          "base_uri": "https://localhost:8080/"
        },
        "id": "3SwiYvDi-VuP",
        "outputId": "78e39a49-4c0c-4bf2-fe60-78da5c6df4de"
      },
      "execution_count": 19,
      "outputs": [
        {
          "output_type": "stream",
          "name": "stderr",
          "text": [
            "/usr/local/lib/python3.8/dist-packages/sklearn/model_selection/_search.py:926: DataConversionWarning: A column-vector y was passed when a 1d array was expected. Please change the shape of y to (n_samples,), for example using ravel().\n",
            "  self.best_estimator_.fit(X, y, **fit_params)\n"
          ]
        },
        {
          "output_type": "stream",
          "name": "stdout",
          "text": [
            "Best Accurancy =0.9704416783705309\n",
            "best parameters ={'criterion': 'gini', 'max_features': 'sqrt', 'n_estimators': 700}\n"
          ]
        }
      ]
    },
    {
      "cell_type": "code",
      "source": [
        "#fitting RandomForest regression with best params \n",
        "classifier = RandomForestClassifier(n_estimators = 100, criterion = \"gini\", max_features = 'log2',  random_state = 0)\n",
        "classifier.fit(x_train, y_train)\n",
        "\n",
        "#predicting the tests set result\n",
        "y_pred = classifier.predict(x_test)\n",
        "\n",
        "#confusion matrix\n",
        "from sklearn.metrics import confusion_matrix\n",
        "cm = confusion_matrix(y_test, y_pred)"
      ],
      "metadata": {
        "colab": {
          "base_uri": "https://localhost:8080/"
        },
        "id": "ZQq2NBTY_j0C",
        "outputId": "d72bc07a-7f8f-4bd9-e698-d82b81d44dbb"
      },
      "execution_count": 20,
      "outputs": [
        {
          "output_type": "stream",
          "name": "stderr",
          "text": [
            "<ipython-input-20-8346b2ed7403>:3: DataConversionWarning: A column-vector y was passed when a 1d array was expected. Please change the shape of y to (n_samples,), for example using ravel().\n",
            "  classifier.fit(x_train, y_train)\n"
          ]
        }
      ]
    },
    {
      "cell_type": "code",
      "source": [
        "print(cm)\n"
      ],
      "metadata": {
        "colab": {
          "base_uri": "https://localhost:8080/"
        },
        "id": "tP9FJ_3s_jwm",
        "outputId": "388ea806-43cd-414d-9984-b71742c6817e"
      },
      "execution_count": 21,
      "outputs": [
        {
          "output_type": "stream",
          "name": "stdout",
          "text": [
            "[[808  20]\n",
            " [ 21 899]]\n"
          ]
        }
      ]
    },
    {
      "cell_type": "code",
      "source": [
        "#pickle file joblib\n",
        "joblib.dump(classifier, 'rf_final.pkl')\n"
      ],
      "metadata": {
        "colab": {
          "base_uri": "https://localhost:8080/"
        },
        "id": "lY7UZKs2_jth",
        "outputId": "7b5ddd46-8fa2-4796-d2f8-2a5bb3b0a304"
      },
      "execution_count": 23,
      "outputs": [
        {
          "output_type": "execute_result",
          "data": {
            "text/plain": [
              "['rf_final.pkl']"
            ]
          },
          "metadata": {},
          "execution_count": 23
        }
      ]
    },
    {
      "cell_type": "code",
      "execution_count": 24,
      "metadata": {
        "id": "lW3zcE_K85FW"
      },
      "outputs": [],
      "source": [
        "#-------------Features Importance random forest\n",
        "names = dataset.iloc[:,:-1].columns\n",
        "importances =classifier.feature_importances_\n",
        "sorted_importances = sorted(importances, reverse=True)\n",
        "indices = np.argsort(-importances)\n",
        "var_imp = pd.DataFrame(sorted_importances, names[indices], columns=['importance'])\n",
        "\n"
      ]
    },
    {
      "cell_type": "code",
      "source": [],
      "metadata": {
        "id": "41opVWV9-FcG"
      },
      "execution_count": null,
      "outputs": []
    }
  ]
}